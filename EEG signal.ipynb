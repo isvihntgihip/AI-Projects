{
 "cells": [
  {
   "cell_type": "code",
   "execution_count": null,
   "id": "0869e6ba",
   "metadata": {},
   "outputs": [],
   "source": []
  },
  {
   "cell_type": "code",
   "execution_count": 49,
   "id": "b32aca22",
   "metadata": {},
   "outputs": [],
   "source": [
    "import pandas as pd\n",
    "import numpy as np \n",
    "from sklearn.model_selection import train_test_split \n",
    "import sklearn\n",
    "import matplotlib.pyplot as plt"
   ]
  },
  {
   "cell_type": "code",
   "execution_count": 53,
   "id": "4b0fe476",
   "metadata": {},
   "outputs": [
    {
     "name": "stdout",
     "output_type": "stream",
     "text": [
      "      lag1_mean_0  lag1_mean_1  lag1_mean_2  lag1_mean_3  lag1_mean_d_h2h1_0  \\\n",
      "0       25.781648    33.836367   -92.769629    19.187957           -1.542262   \n",
      "1       29.357891    26.792566   417.203910    19.472121          -38.797263   \n",
      "2       28.451926    31.076434    72.231301    14.245938          -13.225057   \n",
      "3       21.282184    19.985184    16.220094    39.787312            1.847866   \n",
      "4       20.431516    28.982168    27.540246    19.960398            2.491458   \n",
      "...           ...          ...          ...          ...                 ...   \n",
      "2474    15.762328    19.113555    23.696867     7.568395           -6.503336   \n",
      "2475    34.675582    34.200645   -57.624820    -4.825609            7.382353   \n",
      "2476    29.813809    29.623031   -86.503988     7.532121          -19.581287   \n",
      "2477    59.453973    17.944332   -10.164238    42.568211           -1.300655   \n",
      "2478    22.893855    30.412723    26.029590    14.249789           -7.101478   \n",
      "\n",
      "      lag1_mean_d_h2h1_1  lag1_mean_d_h2h1_2  lag1_mean_d_h2h1_3  \\\n",
      "0               0.197462         -119.561133            2.032654   \n",
      "1             -16.897194          -29.368531           -9.055370   \n",
      "2              -0.614138          -28.331698           -8.858742   \n",
      "3               0.670216           -1.820355           20.220724   \n",
      "4              -6.020503           -1.071166            2.655259   \n",
      "...                  ...                 ...                 ...   \n",
      "2474            6.867187          -11.955396          -16.519912   \n",
      "2475            2.324416           -1.341208           -4.178625   \n",
      "2476           -0.628400          133.947160           -2.049096   \n",
      "2477          -19.993690          -54.331696           12.947622   \n",
      "2478           -0.551013            3.735563           -9.372750   \n",
      "\n",
      "      lag1_mean_q1_0  lag1_mean_q1_1  ...  freq_669_3  freq_679_3  freq_689_3  \\\n",
      "0          21.596272       33.965587  ...    0.000230    0.000351    0.000547   \n",
      "1          44.647424       40.893307  ...    0.001671    0.000740    0.001122   \n",
      "2          31.450289       30.692883  ...    0.000748    0.000569    0.000327   \n",
      "3          21.404679       20.777411  ...    0.000990    0.005644    0.006891   \n",
      "4          16.295039       32.658163  ...    0.001659    0.014379    0.014492   \n",
      "...              ...             ...  ...         ...         ...         ...   \n",
      "2474       19.838319       14.333094  ...    0.008537    0.008941    0.004102   \n",
      "2475       26.383597       28.782987  ...    0.003324    0.003593    0.001702   \n",
      "2476       45.484851       32.163999  ...    0.000754    0.000508    0.000263   \n",
      "2477       55.203380       40.228490  ...    0.003332    0.003557    0.004063   \n",
      "2478       30.411574       30.079904  ...    0.002470    0.003917    0.002528   \n",
      "\n",
      "      freq_699_3  freq_709_3  freq_720_3  freq_730_3  freq_740_3  freq_750_3  \\\n",
      "0       0.000381    0.000350    0.000453    0.000442    0.000325    0.000209   \n",
      "1       0.000521    0.000624    0.000439    0.001249    0.000727    0.000801   \n",
      "2       0.000197    0.000833    0.000909    0.000699    0.001165    0.000616   \n",
      "3       0.010546    0.009583    0.011158    0.008853    0.004551    0.002287   \n",
      "4       0.002949    0.004575    0.008305    0.007202    0.006957    0.009836   \n",
      "...          ...         ...         ...         ...         ...         ...   \n",
      "2474    0.003156    0.003659    0.010179    0.004591    0.013817    0.004536   \n",
      "2475    0.003121    0.002686    0.001645    0.001770    0.001038    0.001973   \n",
      "2476    0.000701    0.000797    0.001096    0.000388    0.000529    0.001079   \n",
      "2477    0.001662    0.002665    0.002353    0.003976    0.001660    0.003229   \n",
      "2478    0.005357    0.004612    0.004503    0.003669    0.002316    0.004765   \n",
      "\n",
      "      Label  \n",
      "0       2.0  \n",
      "1       2.0  \n",
      "2       2.0  \n",
      "3       1.0  \n",
      "4       2.0  \n",
      "...     ...  \n",
      "2474    0.0  \n",
      "2475    2.0  \n",
      "2476    2.0  \n",
      "2477    2.0  \n",
      "2478    1.0  \n",
      "\n",
      "[2479 rows x 989 columns]\n",
      "(2479, 989)\n"
     ]
    }
   ],
   "source": [
    "df = pd.read_csv('/home/prithvisingh/archive/mental-state.csv',)\n",
    "df = pd.DataFrame(df)\n",
    "print(df) \n",
    "print(df.shape) "
   ]
  },
  {
   "cell_type": "code",
   "execution_count": null,
   "id": "ee296f7e",
   "metadata": {},
   "outputs": [],
   "source": []
  },
  {
   "cell_type": "code",
   "execution_count": 51,
   "id": "621a2fd5",
   "metadata": {},
   "outputs": [
    {
     "name": "stdout",
     "output_type": "stream",
     "text": [
      "Train size: (1983, 988)\n",
      "Test size: (496, 988)\n"
     ]
    }
   ],
   "source": [
    "X = df.drop('Label', axis=1)\n",
    "y = df['Label'].copy()\n",
    "X_train, X_test, y_train, y_test = train_test_split(\n",
    "    X, y, random_state=1121218, test_size = 0.2\n",
    ")\n",
    "print(\"Train size:\", X_train.shape)\n",
    "print(\"Test size:\", X_test.shape)"
   ]
  },
  {
   "cell_type": "code",
   "execution_count": 52,
   "id": "2ab509b2",
   "metadata": {},
   "outputs": [
    {
     "data": {
      "text/plain": [
       "RandomForestClassifier(max_features='sqrt', random_state=42)"
      ]
     },
     "execution_count": 52,
     "metadata": {},
     "output_type": "execute_result"
    }
   ],
   "source": [
    "import numpy as np\n",
    "from sklearn.preprocessing import StandardScaler\n",
    "from sklearn.ensemble import RandomForestClassifier\n",
    "from sklearn.metrics import accuracy_score, classification_report \n",
    "\n",
    "random_forest = RandomForestClassifier(n_estimators=100, criterion='gini', max_depth=None, min_samples_split=2, \n",
    "                                       min_samples_leaf=1, min_weight_fraction_leaf=0.0, max_features='sqrt', \n",
    "                                       max_leaf_nodes=None, \n",
    "                                       min_impurity_decrease=0.0, bootstrap=True, oob_score=False, \n",
    "                                       n_jobs=None, random_state=42, verbose=0, warm_start=False, \n",
    "                                       class_weight=None, ccp_alpha=0.0, max_samples=None)\n",
    "\n",
    "# Train the classifier on the training data\n",
    "random_forest.fit(X_train, y_train)\n"
   ]
  },
  {
   "cell_type": "code",
   "execution_count": 21,
   "id": "637971c8",
   "metadata": {},
   "outputs": [],
   "source": [
    "predictions = random_forest.predict(X_test)"
   ]
  },
  {
   "cell_type": "code",
   "execution_count": 22,
   "id": "359fe7ea",
   "metadata": {},
   "outputs": [],
   "source": [
    "accuracy = accuracy_score(y_test, predictions)\n",
    "classification_report_result = classification_report(y_test, predictions)"
   ]
  },
  {
   "cell_type": "code",
   "execution_count": 23,
   "id": "33e0044f",
   "metadata": {},
   "outputs": [
    {
     "name": "stdout",
     "output_type": "stream",
     "text": [
      "Accuracy: {accuracy}\n",
      "Classification Report:\n",
      "               precision    recall  f1-score   support\n",
      "\n",
      "         0.0       1.00      0.96      0.98       170\n",
      "         1.0       0.96      0.95      0.96       168\n",
      "         2.0       0.95      1.00      0.97       158\n",
      "\n",
      "    accuracy                           0.97       496\n",
      "   macro avg       0.97      0.97      0.97       496\n",
      "weighted avg       0.97      0.97      0.97       496\n",
      "\n"
     ]
    }
   ],
   "source": [
    "print(\"Accuracy: {accuracy}\")\n",
    "print(\"Classification Report:\\n\", classification_report_result)"
   ]
  },
  {
   "cell_type": "code",
   "execution_count": 26,
   "id": "cdc78e1f",
   "metadata": {},
   "outputs": [
    {
     "data": {
      "text/plain": [
       "array([2., 1., 2., 0., 2., 2., 2., 1., 0., 1., 0., 2., 2., 1., 0., 1., 0.,\n",
       "       1., 2., 0., 2., 2., 0., 2., 0., 0., 0., 2., 2., 0., 1., 1., 0., 1.,\n",
       "       0., 2., 0., 0., 0., 0., 1., 0., 0., 2., 0., 1., 1., 0., 0., 0., 2.,\n",
       "       1., 1., 1., 1., 0., 2., 2., 1., 2., 0., 0., 1., 0., 0., 0., 0., 1.,\n",
       "       2., 2., 2., 1., 1., 0., 1., 1., 1., 1., 1., 2., 1., 2., 2., 1., 0.,\n",
       "       1., 2., 0., 2., 0., 2., 1., 2., 1., 2., 0., 2., 1., 2., 0., 2., 1.,\n",
       "       1., 0., 0., 0., 1., 1., 2., 1., 0., 1., 2., 2., 0., 1., 0., 0., 2.,\n",
       "       2., 0., 0., 0., 1., 2., 0., 2., 1., 2., 0., 1., 1., 0., 2., 0., 0.,\n",
       "       0., 2., 2., 1., 1., 2., 1., 0., 1., 2., 1., 2., 2., 2., 0., 1., 1.,\n",
       "       1., 2., 1., 0., 2., 1., 0., 1., 0., 1., 1., 2., 2., 1., 0., 0., 2.,\n",
       "       1., 2., 0., 1., 1., 2., 2., 2., 1., 0., 0., 2., 2., 0., 1., 0., 2.,\n",
       "       0., 1., 0., 0., 2., 1., 2., 0., 0., 0., 2., 2., 1., 2., 2., 1., 2.,\n",
       "       0., 1., 2., 2., 1., 2., 2., 2., 2., 1., 1., 1., 2., 0., 2., 0., 0.,\n",
       "       2., 2., 0., 1., 2., 1., 0., 1., 2., 1., 0., 1., 2., 2., 2., 2., 2.,\n",
       "       0., 2., 0., 0., 1., 2., 2., 2., 2., 0., 0., 0., 0., 0., 0., 1., 1.,\n",
       "       1., 1., 2., 0., 1., 0., 1., 2., 0., 1., 1., 2., 0., 0., 1., 1., 1.,\n",
       "       0., 0., 1., 2., 1., 2., 1., 2., 2., 2., 2., 1., 1., 2., 2., 2., 0.,\n",
       "       2., 0., 1., 0., 1., 0., 1., 2., 2., 1., 1., 1., 2., 1., 0., 2., 0.,\n",
       "       1., 2., 1., 2., 0., 1., 0., 0., 0., 0., 0., 2., 0., 2., 1., 0., 1.,\n",
       "       1., 0., 0., 2., 2., 2., 0., 2., 0., 1., 2., 2., 2., 0., 1., 0., 1.,\n",
       "       2., 0., 0., 2., 0., 0., 1., 0., 1., 2., 1., 0., 2., 0., 2., 1., 2.,\n",
       "       2., 1., 1., 2., 0., 2., 0., 2., 1., 1., 0., 2., 2., 2., 2., 0., 2.,\n",
       "       1., 1., 0., 0., 1., 0., 1., 2., 1., 1., 2., 2., 1., 0., 2., 2., 1.,\n",
       "       2., 0., 0., 0., 1., 0., 2., 1., 2., 1., 2., 1., 0., 2., 1., 1., 2.,\n",
       "       2., 0., 1., 0., 1., 1., 1., 1., 0., 2., 2., 1., 0., 0., 2., 1., 0.,\n",
       "       0., 0., 2., 1., 1., 2., 2., 0., 0., 0., 2., 2., 1., 1., 0., 0., 0.,\n",
       "       2., 0., 1., 1., 1., 0., 1., 0., 0., 2., 2., 1., 0., 2., 0., 2., 2.,\n",
       "       0., 0., 1., 0., 2., 1., 1., 1., 2., 0., 2., 1., 0., 2., 1., 1., 1.,\n",
       "       0., 1., 2., 1., 2., 0., 1., 1., 1., 1., 2., 1., 1., 1., 1., 1., 0.,\n",
       "       0., 2., 0.])"
      ]
     },
     "execution_count": 26,
     "metadata": {},
     "output_type": "execute_result"
    }
   ],
   "source": [
    "predictions"
   ]
  },
  {
   "cell_type": "code",
   "execution_count": null,
   "id": "e05ae0ae",
   "metadata": {},
   "outputs": [],
   "source": []
  },
  {
   "cell_type": "code",
   "execution_count": null,
   "id": "93b7a32b",
   "metadata": {},
   "outputs": [],
   "source": [
    "\n"
   ]
  },
  {
   "cell_type": "code",
   "execution_count": null,
   "id": "aa5a0abc",
   "metadata": {},
   "outputs": [],
   "source": []
  },
  {
   "cell_type": "code",
   "execution_count": null,
   "id": "d3987713",
   "metadata": {},
   "outputs": [],
   "source": []
  }
 ],
 "metadata": {
  "kernelspec": {
   "display_name": "Python 3",
   "language": "python",
   "name": "python3"
  },
  "language_info": {
   "codemirror_mode": {
    "name": "ipython",
    "version": 3
   },
   "file_extension": ".py",
   "mimetype": "text/x-python",
   "name": "python",
   "nbconvert_exporter": "python",
   "pygments_lexer": "ipython3",
   "version": "3.9.12"
  }
 },
 "nbformat": 4,
 "nbformat_minor": 5
}
